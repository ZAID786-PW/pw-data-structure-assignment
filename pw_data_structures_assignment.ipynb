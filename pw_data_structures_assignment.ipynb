{
  "nbformat": 4,
  "nbformat_minor": 0,
  "metadata": {
    "colab": {
      "provenance": []
    },
    "kernelspec": {
      "name": "python3",
      "display_name": "Python 3"
    },
    "language_info": {
      "name": "python"
    }
  },
  "cells": [
    {
      "cell_type": "markdown",
      "source": [
        "#Data Types and Structures : Assignment !\n",
        "\n"
      ],
      "metadata": {
        "id": "w7-1mhZT0UDu"
      }
    },
    {
      "cell_type": "markdown",
      "source": [
        "# Phase - 1 [  Theoretical Questions   ]"
      ],
      "metadata": {
        "id": "o-Qyyadh1jkq"
      }
    },
    {
      "cell_type": "markdown",
      "source": [
        "**Q:1 What are data structures , and why are they important**\n",
        "\n",
        "Ans : Data structures are ways to store and organize data in a computer.\n",
        "They are important because they help in saving, accessing, and managing data easily and quickly."
      ],
      "metadata": {
        "id": "8t7Th75h2Fcj"
      }
    },
    {
      "cell_type": "markdown",
      "source": [
        "**Q:2 Explain the difference between mutable and immutable data types with examples**\n",
        "\n",
        "Ans : Mutable means changeable — we can change the data after creating it.    \n",
        "\n",
        "  Example: list, dictionary, set.\n",
        "\n",
        "Immutable means unchangeable — we cannot change the data after creating it.\n",
        "\n",
        "  Example: int, float, string, tuple.\n",
        "\n"
      ],
      "metadata": {
        "id": "UfsraxlX3GvR"
      }
    },
    {
      "cell_type": "markdown",
      "source": [
        "**Q:3 What are the main differences between lists and tuples in Python**\n",
        "\n",
        "Ans : List is mutable – we can change it (add, remove, update items).\n",
        "\n",
        "Example: my_list = [1, 2, 3]\n",
        "\n",
        "Tuple is immutable – we cannot change it after creating.\n",
        "\n",
        "Example: my_tuple = (1, 2, 3)\n",
        "\n",
        "> Lists use [ ] brackets.\n",
        "\n",
        "> Tuples use ( ) brackets."
      ],
      "metadata": {
        "id": "A6JTCdyN361q"
      }
    },
    {
      "cell_type": "markdown",
      "source": [
        "**Q:4 Describe how dictionaries store data**\n",
        "\n",
        "Ans : Dictionaries store data using keys and values.\n",
        "Each key is linked to a value.\n",
        "We use the key to get the value."
      ],
      "metadata": {
        "id": "De_AO9Je36xk"
      }
    },
    {
      "cell_type": "markdown",
      "source": [
        "**Q:5 Why might you use a set instead of a list in Python**\n",
        "\n",
        "Ans : We use a set when we want to store unique items and do not care about the order.\n",
        "Sets automatically remove duplicates."
      ],
      "metadata": {
        "id": "wvnA40T536rw"
      }
    },
    {
      "cell_type": "markdown",
      "source": [
        "**Q:6 What is a string in Python, and how is it different from a list**\n",
        "\n",
        "Ans : A string is a group of characters inside quotes.\n",
        "A list is a group of items inside square brackets.\n",
        "\n",
        "We can change a list, but we cannot change a string after making it."
      ],
      "metadata": {
        "id": "34V9v8Ii36oJ"
      }
    },
    {
      "cell_type": "markdown",
      "source": [
        "**Q:7 How do tuples ensure data integrity in Python**\n",
        "\n",
        "Ans : Tuples cannot be changed after they are made.\n",
        "This keeps the data safe and same always.\n",
        "That’s why they help in data integrity."
      ],
      "metadata": {
        "id": "06juKpsd5tEJ"
      }
    },
    {
      "cell_type": "markdown",
      "source": [
        "**Q:8 What is a hash table, and how does it relate to dictionaries in Python**\n",
        "\n",
        "Ans : A hash table is a way to store data using a key.\n",
        "Python dictionaries use hash tables to save and find values fast.\n",
        "Each key is changed into a number (called hash), and that helps to find the value quickly."
      ],
      "metadata": {
        "id": "L4C7bIlV5txq"
      }
    },
    {
      "cell_type": "markdown",
      "source": [
        "**Q:9 Can lists contain different data types in Python**\n",
        "\n",
        "Ans : Yes, lists can have different data types.\n",
        "A list can have numbers, strings, and even other lists together."
      ],
      "metadata": {
        "id": "G6xQU5hY5vga"
      }
    },
    {
      "cell_type": "markdown",
      "source": [
        "**Q:10 Explain why strings are immutable in Python**\n",
        "\n",
        "Ans : Strings are immutable because we cannot change them after they are made.\n",
        "If we try to change a string, Python makes a new one instead."
      ],
      "metadata": {
        "id": "aT1C7h895vcU"
      }
    },
    {
      "cell_type": "markdown",
      "source": [
        "**Q:11 What advantages do dictionaries offer over lists for certain tasks**\n",
        "\n",
        "Ans : Dictionaries are better when we need to find data using a name or key.\n",
        "They are faster and more organized for such tasks.\n",
        "In lists, we use numbers to find data, but in dictionaries, we use keys."
      ],
      "metadata": {
        "id": "4LrWM-L65vXc"
      }
    },
    {
      "cell_type": "markdown",
      "source": [
        "**Q:12 Describe a scenario where using a tuple would be preferable over a list**\n",
        "\n",
        "Ans : Dictionaries are better when we need to find data using a name or key.\n",
        "They are faster and more organized for such tasks.\n",
        "In lists, we use numbers to find data, but in dictionaries, we use keys."
      ],
      "metadata": {
        "id": "2FDeTrsj5uc-"
      }
    },
    {
      "cell_type": "markdown",
      "source": [
        "**Q:13 How do sets handle duplicate values in Python**\n",
        "\n",
        "Ans : Sets do not allow duplicate values.\n",
        "If we add the same value again, it will be stored only once."
      ],
      "metadata": {
        "id": "kjQhcIzdAnrg"
      }
    },
    {
      "cell_type": "markdown",
      "source": [
        "**Q:14 How does the “in” keyword work differently for lists and dictionaries**\n",
        "\n",
        "Ans : In lists, the “in” keyword checks if a value is inside the list.\n",
        "In dictionaries, it only checks if a key is there, not the value.|"
      ],
      "metadata": {
        "id": "W445BtPKAnoq"
      }
    },
    {
      "cell_type": "markdown",
      "source": [
        "**Q:15 Can you modify the elements of a tuple? Explain why or why not**\n",
        "\n",
        "Ans : No, we cannot modify the elements of a tuple.\n",
        "Because tuples are immutable, which means they cannot be changed after they are made."
      ],
      "metadata": {
        "id": "8evoCN2RAnlr"
      }
    },
    {
      "cell_type": "markdown",
      "source": [
        "**Q:16 What is a nested dictionary, and give an example of its use case**\n",
        "\n",
        "Ans : A nested dictionary is a dictionary inside another dictionary.\n",
        "We use it when we want to store detailed or grouped data."
      ],
      "metadata": {
        "id": "W9L1cghjAniW"
      }
    },
    {
      "cell_type": "markdown",
      "source": [
        "**Q:17 Describe the time complexity of accessing elements in a dictionary**\n",
        "\n",
        "Ans : The time complexity of accessing elements in a dictionary is O(1) in most cases.\n",
        "This means we can get the value quickly using the key."
      ],
      "metadata": {
        "id": "T7dw0igCB9Jj"
      }
    },
    {
      "cell_type": "markdown",
      "source": [
        "**Q:18 In what situations are lists preferred over dictionaries**\n",
        "\n",
        "Ans : Lists are better when we just need to store a group of items in order.\n",
        "We use lists when we don’t need names or keys, only values."
      ],
      "metadata": {
        "id": "T0D_2YGOB9Gt"
      }
    },
    {
      "cell_type": "markdown",
      "source": [
        "**Q:19 Why are dictionaries considered unordered, and how does that affect data retrieval**\n",
        "\n",
        "Ans : Dictionaries are called unordered because they do not keep the data in the same order we add it.\n",
        "But this does not affect data retrieval, because we use keys to get the values, not positions."
      ],
      "metadata": {
        "id": "Q1QQ1i1UB9EB"
      }
    },
    {
      "cell_type": "markdown",
      "source": [
        "**Q:20 Explain the difference between a list and a dictionary in terms of data retrieval.**\n",
        "\n",
        "Ans : In a list, we get data using the index number.\n",
        "In a dictionary, we get data using a key.\n",
        "So, lists use positions, and dictionaries use names to find values."
      ],
      "metadata": {
        "id": "JM54TouWB8-A"
      }
    },
    {
      "cell_type": "markdown",
      "source": [
        "# Phase - 2 [ Practical Questions ]"
      ],
      "metadata": {
        "id": "votNh8E0D3RL"
      }
    },
    {
      "cell_type": "code",
      "source": [
        "# Q:1 Write a code to create a string with your name and print it\n",
        "\n",
        "name = \"Zaid Bin Zaya\"\n",
        "print(name)\n",
        "print(type(name))"
      ],
      "metadata": {
        "colab": {
          "base_uri": "https://localhost:8080/"
        },
        "id": "yDgBQHzyES7X",
        "outputId": "6fed80e0-c6db-468b-88fb-3a96adbb76dd"
      },
      "execution_count": 4,
      "outputs": [
        {
          "output_type": "stream",
          "name": "stdout",
          "text": [
            "Zaid Bin Zaya\n",
            "<class 'str'>\n"
          ]
        }
      ]
    },
    {
      "cell_type": "code",
      "source": [
        "# Q:2 Write a code to find the length of the string \"Hello World\"\n",
        "\n",
        "text = \"Hello World\"\n",
        "length = len(text)\n",
        "print(length)"
      ],
      "metadata": {
        "colab": {
          "base_uri": "https://localhost:8080/"
        },
        "id": "an0EA2EKElv4",
        "outputId": "3902b5c1-dab1-49ce-b589-e1a2a7bddd89"
      },
      "execution_count": 5,
      "outputs": [
        {
          "output_type": "stream",
          "name": "stdout",
          "text": [
            "11\n"
          ]
        }
      ]
    },
    {
      "cell_type": "code",
      "source": [
        "# Q:3 Write a code to slice the first 3 characters from the string \"Python Programming\"\n",
        "\n",
        "text = \"Python Programming\"\n",
        "sliced = text[:3]\n",
        "print(sliced)"
      ],
      "metadata": {
        "colab": {
          "base_uri": "https://localhost:8080/"
        },
        "id": "3Tuv5jutFM8v",
        "outputId": "f53ea2aa-f2fd-46c4-8ba9-5fa095b38e6d"
      },
      "execution_count": 6,
      "outputs": [
        {
          "output_type": "stream",
          "name": "stdout",
          "text": [
            "Pyt\n"
          ]
        }
      ]
    },
    {
      "cell_type": "code",
      "source": [
        "# Q:4 Write a code to convert the string \"hello\" to uppercase\n",
        "\n",
        "text = \"hello\"\n",
        "upper_text = text.upper()\n",
        "print(upper_text)"
      ],
      "metadata": {
        "colab": {
          "base_uri": "https://localhost:8080/"
        },
        "id": "XmJtWQ4gFkGP",
        "outputId": "2a1b6b44-7b7b-4ee1-e41f-24226cec8426"
      },
      "execution_count": 7,
      "outputs": [
        {
          "output_type": "stream",
          "name": "stdout",
          "text": [
            "HELLO\n"
          ]
        }
      ]
    },
    {
      "cell_type": "code",
      "source": [
        "# Q:5  Write a code to replace the word \"apple\" with \"orange\" in the string \"I like apple\"\n",
        "\n",
        "text = \"I like apple\"\n",
        "new_text = text.replace(\"apple\", \"orange\")\n",
        "print(new_text)"
      ],
      "metadata": {
        "colab": {
          "base_uri": "https://localhost:8080/"
        },
        "id": "hChlZ1M4Fw2_",
        "outputId": "0a1b7210-48f6-4bbb-b472-598e13fbae68"
      },
      "execution_count": 8,
      "outputs": [
        {
          "output_type": "stream",
          "name": "stdout",
          "text": [
            "I like orange\n"
          ]
        }
      ]
    },
    {
      "cell_type": "code",
      "source": [
        "# Q:6 P Write a code to create a list with numbers 1 to 5 and print it\n",
        "\n",
        "numbers = [1, 2, 3, 4, 5]\n",
        "print(numbers)\n"
      ],
      "metadata": {
        "colab": {
          "base_uri": "https://localhost:8080/"
        },
        "id": "0qW9SLFbF9Iv",
        "outputId": "589ed44b-ec63-40ac-c641-ed9111557d54"
      },
      "execution_count": 9,
      "outputs": [
        {
          "output_type": "stream",
          "name": "stdout",
          "text": [
            "[1, 2, 3, 4, 5]\n"
          ]
        }
      ]
    },
    {
      "cell_type": "code",
      "source": [
        "# Q:7 Write a code to append the number 10 to the list [1, 2, 3, 4]\n",
        "\n",
        "numbers = [1, 2, 3, 4]\n",
        "numbers.append(10)\n",
        "print(numbers)"
      ],
      "metadata": {
        "colab": {
          "base_uri": "https://localhost:8080/"
        },
        "id": "dqCH3RFYGHE_",
        "outputId": "b463235e-d8ac-47bc-f974-060de0e32af7"
      },
      "execution_count": 10,
      "outputs": [
        {
          "output_type": "stream",
          "name": "stdout",
          "text": [
            "[1, 2, 3, 4, 10]\n"
          ]
        }
      ]
    },
    {
      "cell_type": "code",
      "source": [
        "# Q:8 Write a code to remove the number 3 from the list [1, 2, 3, 4, 5]\n",
        "\n",
        "numbers = [1, 2, 3, 4, 5]\n",
        "numbers.remove(3)\n",
        "print(numbers)"
      ],
      "metadata": {
        "colab": {
          "base_uri": "https://localhost:8080/"
        },
        "id": "AXWlhEM4GXRv",
        "outputId": "dd0b1d7b-2106-450c-dfb8-4b75f742265a"
      },
      "execution_count": 11,
      "outputs": [
        {
          "output_type": "stream",
          "name": "stdout",
          "text": [
            "[1, 2, 4, 5]\n"
          ]
        }
      ]
    },
    {
      "cell_type": "code",
      "source": [
        "# Q:9 Write a code to access the second element in the list ['a', 'b', 'c', 'd']\n",
        "\n",
        "letters = ['a', 'b', 'c', 'd']\n",
        "second = letters[1]\n",
        "print(second)"
      ],
      "metadata": {
        "colab": {
          "base_uri": "https://localhost:8080/"
        },
        "id": "79nMFkNfGjEX",
        "outputId": "278a7339-54e0-4934-bad1-6c748adca1a2"
      },
      "execution_count": 12,
      "outputs": [
        {
          "output_type": "stream",
          "name": "stdout",
          "text": [
            "b\n"
          ]
        }
      ]
    },
    {
      "cell_type": "code",
      "source": [
        "# Q:10 Write a code to reverse the list [10, 20, 30, 40, 50]\n",
        "\n",
        "numbers = [10, 20, 30, 40, 50]\n",
        "numbers.reverse()\n",
        "print(numbers)"
      ],
      "metadata": {
        "colab": {
          "base_uri": "https://localhost:8080/"
        },
        "id": "VjBRV5v7GsEW",
        "outputId": "b6746034-4a63-4658-da0b-bc7bb95e0fda"
      },
      "execution_count": 13,
      "outputs": [
        {
          "output_type": "stream",
          "name": "stdout",
          "text": [
            "[50, 40, 30, 20, 10]\n"
          ]
        }
      ]
    },
    {
      "cell_type": "code",
      "source": [
        "# Q:11  Write a code to create a tuple with the elements 100, 200, 300 and print it.\n",
        "\n",
        "my_tuple = (100, 200, 300)\n",
        "print(my_tuple)"
      ],
      "metadata": {
        "colab": {
          "base_uri": "https://localhost:8080/"
        },
        "id": "YprSE24qG0zX",
        "outputId": "78c34f7a-0cbf-4681-a841-f9254e907c55"
      },
      "execution_count": 14,
      "outputs": [
        {
          "output_type": "stream",
          "name": "stdout",
          "text": [
            "(100, 200, 300)\n"
          ]
        }
      ]
    },
    {
      "cell_type": "code",
      "source": [
        "# Q:12  Write a code to access the second-to-last element of the tuple ('red', 'green', 'blue', 'yellow')\n",
        "\n",
        "colors = ('red', 'green', 'blue', 'yellow')\n",
        "second_last = colors[-2]\n",
        "print(second_last)"
      ],
      "metadata": {
        "colab": {
          "base_uri": "https://localhost:8080/"
        },
        "id": "67esgQePHE53",
        "outputId": "f4f027a7-fc45-4a33-8608-97611c4ce4f2"
      },
      "execution_count": 15,
      "outputs": [
        {
          "output_type": "stream",
          "name": "stdout",
          "text": [
            "blue\n"
          ]
        }
      ]
    },
    {
      "cell_type": "code",
      "source": [
        "# Q:13  Write a code to find the minimum number in the tuple (10, 20, 5, 15)\n",
        "\n",
        "numbers = (10, 20, 5, 15)\n",
        "min_num = min(numbers)\n",
        "print(min_num)"
      ],
      "metadata": {
        "colab": {
          "base_uri": "https://localhost:8080/"
        },
        "id": "s0ekgSLeHPfP",
        "outputId": "9d2b66bb-235f-4636-a272-09ffb2e2b4b1"
      },
      "execution_count": 16,
      "outputs": [
        {
          "output_type": "stream",
          "name": "stdout",
          "text": [
            "5\n"
          ]
        }
      ]
    },
    {
      "cell_type": "code",
      "source": [
        "# Q:14  Write a code to find the index of the element \"cat\" in the tuple ('dog', 'cat', 'rabbit')\n",
        "\n",
        "animals = ('dog', 'cat', 'rabbit')\n",
        "index = animals.index('cat')\n",
        "print(index)"
      ],
      "metadata": {
        "colab": {
          "base_uri": "https://localhost:8080/"
        },
        "id": "26Ns1ecPHgkX",
        "outputId": "5cd154c5-1a9e-4237-e7f9-426577c81d92"
      },
      "execution_count": 17,
      "outputs": [
        {
          "output_type": "stream",
          "name": "stdout",
          "text": [
            "1\n"
          ]
        }
      ]
    },
    {
      "cell_type": "code",
      "source": [
        "# Q:15  Write a code to create a tuple containing three different fruits and check if \"kiwi\" is in it\n",
        "\n",
        "fruits = (\"apple\", \"banana\", \"kiwi\", \"orange\")\n",
        "if \"kiwi\" in fruits:\n",
        "    print(\"Kiwi is in the tuple.\")\n",
        "else:\n",
        "    print(\"Kiwi is not in the tuple.\")"
      ],
      "metadata": {
        "colab": {
          "base_uri": "https://localhost:8080/"
        },
        "id": "JGxjK6cuH02m",
        "outputId": "cea90c23-09b1-48f8-8e1e-a842d70b243f"
      },
      "execution_count": 20,
      "outputs": [
        {
          "output_type": "stream",
          "name": "stdout",
          "text": [
            "Kiwi is in the tuple.\n"
          ]
        }
      ]
    },
    {
      "cell_type": "code",
      "source": [
        "# Q:16  Write a code to create a set with the elements 'a', 'b', 'c' and print it\n",
        "\n",
        "my_set = {'a', 'b', 'c'}\n",
        "print(my_set)"
      ],
      "metadata": {
        "colab": {
          "base_uri": "https://localhost:8080/"
        },
        "id": "E-rJ4wzbH-A_",
        "outputId": "d1fec5e0-b7c7-444e-f783-927221c4347b"
      },
      "execution_count": 21,
      "outputs": [
        {
          "output_type": "stream",
          "name": "stdout",
          "text": [
            "{'b', 'a', 'c'}\n"
          ]
        }
      ]
    },
    {
      "cell_type": "code",
      "source": [
        "# Q:17 . Write a code to clear all elements from the set {1, 2, 3, 4, 5}\n",
        "\n",
        "my_set = {1, 2, 3, 4, 5}\n",
        "my_set.clear()\n",
        "print(my_set)"
      ],
      "metadata": {
        "colab": {
          "base_uri": "https://localhost:8080/"
        },
        "id": "pQriY7xEIa-X",
        "outputId": "3a00cd86-b09a-4084-adfd-2a1bc229073b"
      },
      "execution_count": 22,
      "outputs": [
        {
          "output_type": "stream",
          "name": "stdout",
          "text": [
            "set()\n"
          ]
        }
      ]
    },
    {
      "cell_type": "code",
      "source": [
        "# Q:18  Write a code to remove the element 4 from the set {1, 2, 3, 4}\n",
        "\n",
        "my_set = {1, 2, 3, 4}\n",
        "my_set.remove(4)\n",
        "print(my_set)"
      ],
      "metadata": {
        "colab": {
          "base_uri": "https://localhost:8080/"
        },
        "id": "R0GN7Mk6Ilv_",
        "outputId": "039558b1-4f77-434e-82e4-6de776a50175"
      },
      "execution_count": 23,
      "outputs": [
        {
          "output_type": "stream",
          "name": "stdout",
          "text": [
            "{1, 2, 3}\n"
          ]
        }
      ]
    },
    {
      "cell_type": "code",
      "source": [
        "# Q:19 Write a code to find the union of two sets {1, 2, 3} and {3, 4, 5}\n",
        "\n",
        "set1 = {1, 2, 3}\n",
        "set2 = {3, 4, 5}\n",
        "union_set = set1.union(set2)\n",
        "print(union_set)"
      ],
      "metadata": {
        "colab": {
          "base_uri": "https://localhost:8080/"
        },
        "id": "TUAh1Z3PIzq3",
        "outputId": "1fcccbd3-5a6c-447f-a709-1272f29e798a"
      },
      "execution_count": 24,
      "outputs": [
        {
          "output_type": "stream",
          "name": "stdout",
          "text": [
            "{1, 2, 3, 4, 5}\n"
          ]
        }
      ]
    },
    {
      "cell_type": "code",
      "source": [
        "# Q:20  Write a code to find the intersection of two sets {1, 2, 3} and {2, 3, 4}\n",
        "\n",
        "set1 = {1, 2, 3}\n",
        "set2 = {2, 3, 4}\n",
        "common = set1.intersection(set2)\n",
        "print(common)"
      ],
      "metadata": {
        "colab": {
          "base_uri": "https://localhost:8080/"
        },
        "id": "l3ZNybY8JAeP",
        "outputId": "b702ac18-384c-4a0e-c8d3-46ea203f838e"
      },
      "execution_count": 25,
      "outputs": [
        {
          "output_type": "stream",
          "name": "stdout",
          "text": [
            "{2, 3}\n"
          ]
        }
      ]
    },
    {
      "cell_type": "code",
      "source": [
        "# Q:21  Write a code to create a dictionary with the keys \"name\", \"age\", and \"city\", and print it\n",
        "\n",
        "my_dict = {\n",
        "    \"name\": \"Zaid\",\n",
        "    \"age\": 20,\n",
        "    \"city\": \"Mumbai\"\n",
        "}\n",
        "print(my_dict)\n"
      ],
      "metadata": {
        "colab": {
          "base_uri": "https://localhost:8080/"
        },
        "id": "j6o__G2vJKBf",
        "outputId": "2786c2f3-68a9-44a2-948d-0f9855126892"
      },
      "execution_count": 26,
      "outputs": [
        {
          "output_type": "stream",
          "name": "stdout",
          "text": [
            "{'name': 'Zaid', 'age': 20, 'city': 'Mumbai'}\n"
          ]
        }
      ]
    },
    {
      "cell_type": "code",
      "source": [
        "# Q:22  Write a code to add a new key-value pair \"country\": \"USA\" to the dictionary {'name': 'John', 'age': 25}\n",
        "\n",
        "person = {'name': 'John', 'age': 25}\n",
        "person['country'] = 'USA'\n",
        "print(person)"
      ],
      "metadata": {
        "colab": {
          "base_uri": "https://localhost:8080/"
        },
        "id": "mQUM1q_VJSEu",
        "outputId": "b390ac5e-7e11-4bbe-d297-20162b4aaa97"
      },
      "execution_count": 27,
      "outputs": [
        {
          "output_type": "stream",
          "name": "stdout",
          "text": [
            "{'name': 'John', 'age': 25, 'country': 'USA'}\n"
          ]
        }
      ]
    },
    {
      "cell_type": "code",
      "source": [
        "# Q:23 Write a code to access the value associated with the key \"name\" in the dictionary {'name': 'Alice', 'age': 30}\n",
        "\n",
        "person = {'name': 'Alice', 'age': 30}\n",
        "value = person['name']\n",
        "print(value)"
      ],
      "metadata": {
        "colab": {
          "base_uri": "https://localhost:8080/"
        },
        "id": "0YM9SU1pJmg3",
        "outputId": "86a720f8-75f3-40c8-d377-272f0298c234"
      },
      "execution_count": 28,
      "outputs": [
        {
          "output_type": "stream",
          "name": "stdout",
          "text": [
            "Alice\n"
          ]
        }
      ]
    },
    {
      "cell_type": "code",
      "source": [
        "# Q:24  Write a code to remove the key \"age\" from the dictionary {'name': 'Bob', 'age': 22, 'city': 'New York'}\n",
        "\n",
        "person = {'name': 'Bob', 'age': 22, 'city': 'New York'}\n",
        "person.pop('age')\n",
        "print(person)"
      ],
      "metadata": {
        "colab": {
          "base_uri": "https://localhost:8080/"
        },
        "id": "BuS-c8WWJzQX",
        "outputId": "2229558a-efb4-4bee-87f0-58308cf25e44"
      },
      "execution_count": 29,
      "outputs": [
        {
          "output_type": "stream",
          "name": "stdout",
          "text": [
            "{'name': 'Bob', 'city': 'New York'}\n"
          ]
        }
      ]
    },
    {
      "cell_type": "code",
      "source": [
        "# Q:25 Write a code to check if the key \"city\" exists in the dictionary {'name': 'Alice', 'city': 'Paris'}\n",
        "\n",
        "person = {'name': 'Alice', 'city': 'Paris'}\n",
        "\n",
        "if 'city' in person:\n",
        "    print(\"Key exists\")\n",
        "else:\n",
        "    print(\"Key does not exist\")"
      ],
      "metadata": {
        "colab": {
          "base_uri": "https://localhost:8080/"
        },
        "id": "2ytPuwijJ-Hv",
        "outputId": "b7185911-c850-4e83-da89-0f5499d4e900"
      },
      "execution_count": 30,
      "outputs": [
        {
          "output_type": "stream",
          "name": "stdout",
          "text": [
            "Key exists\n"
          ]
        }
      ]
    },
    {
      "cell_type": "code",
      "source": [
        "# Q:26 Write a code to create a list, a tuple, and a dictionary, and print them all\n",
        "\n",
        "# Creating a list\n",
        "my_list = [10, 20, 30]\n",
        "\n",
        "# Creating a tuple\n",
        "my_tuple = ('apple', 'banana', 'cherry')\n",
        "\n",
        "# Creating a dictionary\n",
        "my_dict = {'name': 'Zaid', 'country': 'India'}\n",
        "\n",
        "# Printing them all\n",
        "print(\"List:\", my_list)\n",
        "print(\"Tuple:\", my_tuple)\n",
        "print(\"Dictionary:\", my_dict)"
      ],
      "metadata": {
        "colab": {
          "base_uri": "https://localhost:8080/"
        },
        "id": "xRx8u5E5KHEX",
        "outputId": "ae929981-7a8d-4db5-d792-78306259f062"
      },
      "execution_count": 31,
      "outputs": [
        {
          "output_type": "stream",
          "name": "stdout",
          "text": [
            "List: [10, 20, 30]\n",
            "Tuple: ('apple', 'banana', 'cherry')\n",
            "Dictionary: {'name': 'Zaid', 'country': 'India'}\n"
          ]
        }
      ]
    },
    {
      "cell_type": "code",
      "source": [
        "# Q: 27  Write a code to create a list of 5 random numbers between 1 and 100, sort it in ascending order, and print the result . (replaced)\n",
        "\n",
        "import random\n",
        "\n",
        "# Create a list of 5 random numbers between 1 and 100\n",
        "my_list = random.sample(range(1, 101), 5)\n",
        "\n",
        "# Sort the list in ascending order\n",
        "my_list.sort()\n",
        "\n",
        "# Print the result\n",
        "print(\"Sorted list:\", my_list)\n"
      ],
      "metadata": {
        "colab": {
          "base_uri": "https://localhost:8080/"
        },
        "id": "8kR1q5I1Kmz5",
        "outputId": "08124f5e-d379-4b56-d286-c705b5c6d421"
      },
      "execution_count": 32,
      "outputs": [
        {
          "output_type": "stream",
          "name": "stdout",
          "text": [
            "Sorted list: [1, 9, 27, 41, 66]\n"
          ]
        }
      ]
    },
    {
      "cell_type": "code",
      "source": [
        "# Q:28 Write a code to create a list with strings and print the element at the third index.\n",
        "\n",
        "my_list = [\"apple\", \"banana\", \"cherry\", \"date\", \"fig\"]\n",
        "print(\"Element at third index:\", my_list[3])"
      ],
      "metadata": {
        "colab": {
          "base_uri": "https://localhost:8080/"
        },
        "id": "PQjewMu6Lliv",
        "outputId": "81d373f9-bce4-4527-9144-bbe1d5bef777"
      },
      "execution_count": 33,
      "outputs": [
        {
          "output_type": "stream",
          "name": "stdout",
          "text": [
            "Element at third index: date\n"
          ]
        }
      ]
    },
    {
      "cell_type": "code",
      "source": [
        "# Q:29 Write a code to combine two dictionaries into one and print the result.\n",
        "\n",
        "dict1 = {\"name\": \"Zaid\", \"age\": 20}\n",
        "dict2 = {\"city\": \"Mumbai\", \"country\": \"India\"}\n",
        "\n",
        "# Combine both dictionaries\n",
        "combined_dict = {**dict1, **dict2}\n",
        "\n",
        "# Print the result\n",
        "print(\"Combined dictionary:\", combined_dict)"
      ],
      "metadata": {
        "colab": {
          "base_uri": "https://localhost:8080/"
        },
        "id": "R7iGnoxhLzRm",
        "outputId": "6c3041e2-dba4-484f-97da-a3281430ac3e"
      },
      "execution_count": 34,
      "outputs": [
        {
          "output_type": "stream",
          "name": "stdout",
          "text": [
            "Combined dictionary: {'name': 'Zaid', 'age': 20, 'city': 'Mumbai', 'country': 'India'}\n"
          ]
        }
      ]
    },
    {
      "cell_type": "code",
      "source": [
        "# Q:30  Write a code to convert a list of strings into a set\n",
        "\n",
        "my_list = [\"apple\", \"banana\", \"apple\", \"orange\"]\n",
        "my_set = set(my_list)\n",
        "\n",
        "print(\"Converted set:\", my_set)"
      ],
      "metadata": {
        "colab": {
          "base_uri": "https://localhost:8080/"
        },
        "id": "fFlUl476MD1u",
        "outputId": "2434befb-788e-4928-897a-9bfa6a401769"
      },
      "execution_count": 35,
      "outputs": [
        {
          "output_type": "stream",
          "name": "stdout",
          "text": [
            "Converted set: {'orange', 'banana', 'apple'}\n"
          ]
        }
      ]
    },
    {
      "cell_type": "markdown",
      "source": [
        "# Thank You\n",
        "\n",
        "**Note : Dear Sir,**\n",
        "\n",
        "I would like to inform you that in my previous submission, I accidentally uploaded the wrong file for the first assignment. Because of this mistake, I received 0.50 out of 100 marks.\n",
        "\n",
        "It was my big mistake, and I truly apologize for it.\n",
        "In this current submission, I am uploading both assignments together — the previous one (correct file) and the new one.\n",
        "\n",
        "Please give me one chance and kindly accept my assignments.\n",
        "I will be very grateful.\n",
        "\n",
        "Thank you for your understanding.\n",
        "\n",
        "Sincerely,\n",
        "\n",
        "Name : Zaid Bin Zaya\n",
        "\n",
        "\n"
      ],
      "metadata": {
        "id": "FbQSxeGtMQWo"
      }
    }
  ]
}