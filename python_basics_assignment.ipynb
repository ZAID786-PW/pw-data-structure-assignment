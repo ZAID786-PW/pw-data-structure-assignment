{
  "nbformat": 4,
  "nbformat_minor": 0,
  "metadata": {
    "colab": {
      "provenance": []
    },
    "kernelspec": {
      "name": "python3",
      "display_name": "Python 3"
    },
    "language_info": {
      "name": "python"
    }
  },
  "cells": [
    {
      "cell_type": "markdown",
      "source": [
        "#THEORETICAL QUESTIONS :"
      ],
      "metadata": {
        "id": "Lct5Zek8YiJe"
      }
    },
    {
      "cell_type": "markdown",
      "source": [
        "#Q:1 what is python , and why it is popular\n",
        "\n",
        "**Ans : python is a programming language used to intract with the computer and machines , hence there are many factors why python is a popular programming language because python has  easy syntex the one who knows english can easily understand python programmaing , python used is various domains as a main language like data science , data analytics , machine learning , robotics etc . python has a wide and active community , python has a huge numbers of libraries.**"
      ],
      "metadata": {
        "id": "QlaxnSlb4yvR"
      }
    },
    {
      "cell_type": "markdown",
      "source": [
        "#Q:2 What is an interpreter in python\n",
        "\n",
        "**Ans : An interpreter is a translator which translate our programming language into machine language so that machines can easily understand  , interpreter reads the code line by line whereas compiler reads the whole code at once .**"
      ],
      "metadata": {
        "id": "K_U2bnhD7D_J"
      }
    },
    {
      "cell_type": "markdown",
      "source": [
        "#Q:3 What are pre-defined keywords in python\n",
        "\n",
        "**Ans : in python pre-defined keywords is like a set of rules to do any work or writting the logic.**"
      ],
      "metadata": {
        "id": "HADKHp908RMr"
      }
    },
    {
      "cell_type": "markdown",
      "source": [
        "#Q:4 Can keywords be used as varibales name\n",
        "\n",
        "**Ans : No Keywords can not be used as variables because python has a strict rules and regulations.**"
      ],
      "metadata": {
        "id": "d7OPEoSA9BJX"
      }
    },
    {
      "cell_type": "markdown",
      "source": [
        "#Q:5 What is mutability in python\n",
        "\n",
        "**Ans : Mutability means changing the value after creatiing a list**"
      ],
      "metadata": {
        "id": "uzb0JH0t-zBN"
      }
    },
    {
      "cell_type": "markdown",
      "source": [
        "#Q:6 Why are lists mutable, but tuples are immutable\n",
        "\n",
        "**Ans : list are used to store the datas which can be eited in future whereas tuples are used to store the constant values.**"
      ],
      "metadata": {
        "id": "cztPfWQ9C6os"
      }
    },
    {
      "cell_type": "markdown",
      "source": [
        "#Q:7 What is the difference between “==” and “is” operators in Python\n",
        "\n",
        "Ans the major difference between the == and is are as Followed :\n",
        "\n",
        "== is used for assigning any value whereas is operator is used to test if two vriables refers to the same object.\n",
        "\n"
      ],
      "metadata": {
        "id": "k8SNZHK7D05r"
      }
    },
    {
      "cell_type": "markdown",
      "source": [
        "#Q:8 What are logic operators in python\n",
        "\n",
        "**Ans : Logic operators are used to write a program and to combine multiple conditions and expressions.**"
      ],
      "metadata": {
        "id": "0EXYRShkFDrp"
      }
    },
    {
      "cell_type": "markdown",
      "source": [
        "#Q:9 What is type casting in python\n",
        "\n",
        "Ans **type casting is nothing just changing the data type into another data type.**\n",
        "\n",
        "#Example Are As Followed :"
      ],
      "metadata": {
        "id": "YPaG1WugFDnP"
      }
    },
    {
      "cell_type": "code",
      "source": [
        "str_1 = \"1000\"\n",
        "int_1 = int(str_1)\n",
        "print(int_1)\n",
        "print(type(int_1))\n"
      ],
      "metadata": {
        "colab": {
          "base_uri": "https://localhost:8080/"
        },
        "id": "_-kuEVgLHMLW",
        "outputId": "af9593d5-10ee-4a28-a095-43cf8dc1926a"
      },
      "execution_count": null,
      "outputs": [
        {
          "output_type": "stream",
          "name": "stdout",
          "text": [
            "1000\n",
            "<class 'int'>\n"
          ]
        }
      ]
    },
    {
      "cell_type": "markdown",
      "source": [
        "#Q:10 What is the difference between implicit and explicit type casting\n",
        "\n",
        "Ans : Implict type casting means python does the conversion by itself , without asking .\n",
        "\n",
        "Explict type casting means we give the instruction what to do ."
      ],
      "metadata": {
        "id": "uRJf5TWyFDjJ"
      }
    },
    {
      "cell_type": "markdown",
      "source": [
        "#Q:11 What is the purpose of conditional statements in Python\n",
        "\n",
        "**Ans : Condtional Statements are use to write the logic of the programm and to give the instruction to the computer what to do if the given condition is true or false :**\n"
      ],
      "metadata": {
        "id": "AnFkdpJRFDa_"
      }
    },
    {
      "cell_type": "markdown",
      "source": [
        "#Q:12 How does the elif statement work\n",
        "\n",
        "**Ans : elif sttement is aa part of conditional statement hence when the if statement is wrong then the interpreter checks the eilf staatement if it is true then it perform the desire output if not then it directly prints the else statemet**"
      ],
      "metadata": {
        "id": "7N8bQ35LMqLS"
      }
    },
    {
      "cell_type": "markdown",
      "source": [
        "#Q:13 What is the difference between for and while loop\n",
        "\n",
        "**Ans : The main difference between the for and while loop in is that for loop does not require the counter to be incremented manually, but the while loop does.**"
      ],
      "metadata": {
        "id": "StgbCYufMqIS"
      }
    },
    {
      "cell_type": "markdown",
      "source": [
        "#Q:14 describe a scenerio where a while loop is more suitble than  for loop\n",
        "\n",
        "Ans A while loop is more suitable when we don’t know in advance how many times the loop needs to run. It is used when the loop depends on a condition, not a fixed number.\n",
        "\n",
        "For example, when we want to ask the user to enter the correct password, we don’t know how many attempts the user will take. So, we keep repeating the loop until the correct password is entered.\n",
        "\n",
        "In such situations, while loop is better than for loop."
      ],
      "metadata": {
        "id": "74ZzD6moMp_-"
      }
    },
    {
      "cell_type": "markdown",
      "source": [
        "# PRACTICAL QUESTIONS :"
      ],
      "metadata": {
        "id": "tRWlV6bHYb8s"
      }
    },
    {
      "cell_type": "code",
      "source": [
        "#1. Write a Python program to print \"Hello, World!\n",
        "\n",
        "print(\"hellow world\")"
      ],
      "metadata": {
        "colab": {
          "base_uri": "https://localhost:8080/"
        },
        "id": "gaLl4Bs9Ygsg",
        "outputId": "9ca6e19f-460e-414b-9d52-094428047e85"
      },
      "execution_count": null,
      "outputs": [
        {
          "output_type": "stream",
          "name": "stdout",
          "text": [
            "hellow world\n"
          ]
        }
      ]
    },
    {
      "cell_type": "code",
      "source": [
        "#2. Write a Python program that displays your name and age\n",
        "\n",
        "name = \" Zaid Bin Zaya \"\n",
        "Age = 17\n",
        "\n",
        "print (name )\n",
        "print ( Age )"
      ],
      "metadata": {
        "colab": {
          "base_uri": "https://localhost:8080/"
        },
        "id": "PNqYx-nJZAOy",
        "outputId": "5de1477f-e068-49a6-b881-716e2e15cee3"
      },
      "execution_count": null,
      "outputs": [
        {
          "output_type": "stream",
          "name": "stdout",
          "text": [
            " Zaid Bin Zaya \n",
            "17\n"
          ]
        }
      ]
    },
    {
      "cell_type": "code",
      "source": [
        "#3. Write code to print all the pre-defined keywords in Python using the keyword library\n",
        "\n",
        "import keyword\n",
        "\n",
        "print(\"All Python keywords are:\")\n",
        "print(keyword.kwlist)"
      ],
      "metadata": {
        "colab": {
          "base_uri": "https://localhost:8080/"
        },
        "id": "E5N18HQQZKJh",
        "outputId": "29e57bd9-f8d0-43de-fefc-b62c0b70d95d"
      },
      "execution_count": null,
      "outputs": [
        {
          "output_type": "stream",
          "name": "stdout",
          "text": [
            "All Python keywords are:\n",
            "['False', 'None', 'True', 'and', 'as', 'assert', 'async', 'await', 'break', 'class', 'continue', 'def', 'del', 'elif', 'else', 'except', 'finally', 'for', 'from', 'global', 'if', 'import', 'in', 'is', 'lambda', 'nonlocal', 'not', 'or', 'pass', 'raise', 'return', 'try', 'while', 'with', 'yield']\n"
          ]
        }
      ]
    },
    {
      "cell_type": "code",
      "source": [
        "#4. Write a program that checks if a given word is a Python keyword.\n",
        "\n",
        "import keyword\n",
        "\n",
        "# take input from user\n",
        "word = input(\"Enter a word: \")\n",
        "\n",
        "# check if it is a keyword\n",
        "if keyword.iskeyword(word):\n",
        "    print(f\"'{word}' is a Python keyword.\")\n",
        "else:\n",
        "    print(f\"'{word}' is not a Python keyword.\")"
      ],
      "metadata": {
        "colab": {
          "base_uri": "https://localhost:8080/"
        },
        "id": "XmKrbg4BZnmh",
        "outputId": "fc2454c5-eb63-4dfa-b7e6-a2ec3fd0efe8"
      },
      "execution_count": null,
      "outputs": [
        {
          "output_type": "stream",
          "name": "stdout",
          "text": [
            "Enter a word: if\n",
            "'if' is a Python keyword.\n"
          ]
        }
      ]
    },
    {
      "cell_type": "code",
      "source": [
        "#5. Create a list and tuple in Python, and demonstrate how attempting to change an element works differently for each\n",
        "\n",
        "# List example\n",
        "my_list = [10, 20, 30]\n",
        "print(\"Before changing:\", my_list)\n",
        "\n",
        "my_list[1] = 99  # changing second element\n",
        "print(\"After changing:\", my_list)\n",
        "\n",
        "# Tuple example\n",
        "my_tuple = (10, 20, 30)\n",
        "print(\"Tuple:\", my_tuple)\n",
        "\n",
        "# my_tuple[1] = 99  # ❌ This will give an error because tuples are immutable\n"
      ],
      "metadata": {
        "colab": {
          "base_uri": "https://localhost:8080/"
        },
        "id": "l-W14laqaGlR",
        "outputId": "7a45a5bb-404d-4934-85b1-cc8a9b3d6472"
      },
      "execution_count": 1,
      "outputs": [
        {
          "output_type": "stream",
          "name": "stdout",
          "text": [
            "Before changing: [10, 20, 30]\n",
            "After changing: [10, 99, 30]\n",
            "Tuple: (10, 20, 30)\n"
          ]
        }
      ]
    },
    {
      "cell_type": "code",
      "source": [
        "#6. Write a function to demonstrate the behavior of mutable and immutable arguments\n",
        "\n",
        "# Function with immutable argument (integer)\n",
        "def change_number(x):\n",
        "    x = x + 5\n",
        "    print(\"Inside function (x):\", x)\n",
        "\n",
        "# Function with mutable argument (list)\n",
        "def change_list(mylist):\n",
        "    mylist.append(100)\n",
        "    print(\"Inside function (mylist):\", mylist)\n",
        "\n",
        "# Immutable Example\n",
        "num = 10\n",
        "print(\"Before function call (num):\", num)\n",
        "change_number(num)\n",
        "print(\"After function call (num):\", num)\n",
        "\n",
        "print(\"------------\")\n",
        "\n",
        "# Mutable Example\n",
        "numbers = [1, 2, 3]\n",
        "print(\"Before function call (list):\", numbers)\n",
        "change_list(numbers)\n",
        "print(\"After function call (list):\", numbers)"
      ],
      "metadata": {
        "colab": {
          "base_uri": "https://localhost:8080/"
        },
        "id": "zPb-4sogaslp",
        "outputId": "94d16d0a-0df5-44ef-d1a7-cb492ca9e867"
      },
      "execution_count": null,
      "outputs": [
        {
          "output_type": "stream",
          "name": "stdout",
          "text": [
            "Before function call (num): 10\n",
            "Inside function (x): 15\n",
            "After function call (num): 10\n",
            "------------\n",
            "Before function call (list): [1, 2, 3]\n",
            "Inside function (mylist): [1, 2, 3, 100]\n",
            "After function call (list): [1, 2, 3, 100]\n"
          ]
        }
      ]
    },
    {
      "cell_type": "code",
      "source": [
        "#7. Write a program that performs basic arithmetic operations on two user-input numbers\n",
        "\n",
        "# Taking input from the user\n",
        "num1 = float(input(\"Enter first number: \"))\n",
        "num2 = float(input(\"Enter second number: \"))\n",
        "\n",
        "# Performing basic arithmetic operations\n",
        "add = num1 + num2\n",
        "sub = num1 - num2\n",
        "mul = num1 * num2\n",
        "div = num1 / num2\n",
        "\n",
        "# Printing the results\n",
        "print(\"Addition:\", add)\n",
        "print(\"Subtraction:\", sub)\n",
        "print(\"Multiplication:\", mul)\n",
        "print(\"Division:\", div)"
      ],
      "metadata": {
        "id": "d8ZFtghXa_C5"
      },
      "execution_count": null,
      "outputs": []
    },
    {
      "cell_type": "code",
      "source": [
        "#8. Write a program to demonstrate the use of logical operators.\n",
        "\n",
        "# Taking input from user\n",
        "age = int(input(\"Enter your age: \"))\n",
        "has_id = input(\"Do you have an ID? (yes/no): \")\n",
        "\n",
        "# Using logical AND\n",
        "if age >= 18 and has_id == \"yes\":\n",
        "    print(\"You are allowed to enter.\")\n",
        "else:\n",
        "    print(\"Entry not allowed.\")\n",
        "\n",
        "# Using logical OR\n",
        "if age >= 18 or has_id == \"yes\":\n",
        "    print(\"You can apply for permission.\")\n",
        "else:\n",
        "    print(\"You cannot apply.\")\n",
        "\n",
        "# Using logical NOT\n",
        "if not (has_id == \"yes\"):\n",
        "    print(\"You must carry an ID next time.\")"
      ],
      "metadata": {
        "id": "ybm3KwHWbGhY"
      },
      "execution_count": null,
      "outputs": []
    },
    {
      "cell_type": "code",
      "source": [
        "#9. Write a Python program to convert user input from string to integer, float, and boolean types\n",
        "\n",
        "# Taking input from user (by default it's a string)\n",
        "user_input = input(\"Enter any value: \")\n",
        "\n",
        "# Converting to integer\n",
        "int_value = int(user_input)\n",
        "print(\"As Integer:\", int_value)\n",
        "\n",
        "# Converting to float\n",
        "float_value = float(user_input)\n",
        "print(\"As Float:\", float_value)\n",
        "\n",
        "# Converting to boolean\n",
        "bool_value = bool(user_input)\n",
        "print(\"As Boolean:\", bool_value)"
      ],
      "metadata": {
        "id": "LOL9eJ3ebNNx"
      },
      "execution_count": null,
      "outputs": []
    },
    {
      "cell_type": "code",
      "source": [
        "#10. Write code to demonstrate type casting with list elements.\n",
        "\n",
        "# List with string numbers\n",
        "string_list = [\"10\", \"20\", \"30\"]\n",
        "\n",
        "# Convert each string element to integer\n",
        "int_list = []\n",
        "for item in string_list:\n",
        "    int_list.append(int(item))\n",
        "\n",
        "print(\"Original list (strings):\", string_list)\n",
        "print(\"Converted list (integers):\", int_list)\n",
        "\n",
        "# Convert to float\n",
        "float_list = []\n",
        "for item in string_list:\n",
        "    float_list.append(float(item))\n",
        "\n",
        "print(\"Converted list (floats):\", float_list)"
      ],
      "metadata": {
        "id": "cFbOVBrJbW8w"
      },
      "execution_count": null,
      "outputs": []
    },
    {
      "cell_type": "code",
      "source": [
        "#11. Write a program that checks if a number is positive, negative, or zero\n",
        "\n",
        "# Take input from the user\n",
        "num = float(input(\"Enter a number: \"))\n",
        "\n",
        "# Check conditions\n",
        "if num > 0:\n",
        "    print(\"The number is positive.\")\n",
        "elif num < 0:\n",
        "    print(\"The number is negative.\")\n",
        "else:\n",
        "    print(\"The number is zero.\")"
      ],
      "metadata": {
        "id": "T5bDbiNvber5"
      },
      "execution_count": null,
      "outputs": []
    },
    {
      "cell_type": "code",
      "source": [
        "#12. Write a for loop to print numbers from 1 to 10\n",
        "\n",
        "# using for loop to print 1 to 10\n",
        "for i in range(1, 11):\n",
        "    print(i)"
      ],
      "metadata": {
        "id": "koJwuO7VbkoJ"
      },
      "execution_count": null,
      "outputs": []
    },
    {
      "cell_type": "code",
      "source": [
        "#13. Write a Python program to find the sum of all even numbers between 1 and 50.\n",
        "\n",
        "# initialize sum\n",
        "total = 0\n",
        "\n",
        "# loop from 1 to 50\n",
        "for i in range(1, 51):\n",
        "    if i % 2 == 0:\n",
        "        total = total + i\n",
        "\n",
        "# print the result\n",
        "print(\"Sum of even numbers from 1 to 50 is:\", total)"
      ],
      "metadata": {
        "id": "qMIMOUPwbtAJ"
      },
      "execution_count": null,
      "outputs": []
    },
    {
      "cell_type": "code",
      "source": [
        "#14. Write a program to reverse a string using a while loop.\n",
        "\n",
        "# take input from user\n",
        "text = input(\"Enter a string: \")\n",
        "\n",
        "# set index to last character\n",
        "i = len(text) - 1\n",
        "\n",
        "# create an empty string to store reverse\n",
        "reverse = \"\"\n",
        "\n",
        "# run while loop\n",
        "while i >= 0:\n",
        "    reverse = reverse + text[i]\n",
        "    i = i - 1\n",
        "\n",
        "# print reversed string\n",
        "print(\"Reversed string:\", reverse)"
      ],
      "metadata": {
        "id": "XtoPQFWXb0up"
      },
      "execution_count": null,
      "outputs": []
    },
    {
      "cell_type": "code",
      "source": [
        "#15. Write a Python program to calculate the factorial of a number provided by the user using a while loop\n",
        "\n",
        "# take input from user\n",
        "num = int(input(\"Enter a number: \"))\n",
        "\n",
        "# initialize variables\n",
        "factorial = 1\n",
        "i = 1\n",
        "\n",
        "# use while loop to calculate factorial\n",
        "while i <= num:\n",
        "    factorial = factorial * i\n",
        "    i = i + 1\n",
        "\n",
        "# print the result\n",
        "print(\"Factorial of\", num, \"is:\", factorial)"
      ],
      "metadata": {
        "id": "p8BqEvyyb9yw"
      },
      "execution_count": null,
      "outputs": []
    }
  ]
}